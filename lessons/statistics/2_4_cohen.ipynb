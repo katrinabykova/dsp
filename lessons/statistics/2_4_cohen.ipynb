{
 "cells": [
  {
   "cell_type": "markdown",
   "metadata": {},
   "source": [
    "Exercise 4   Using the variable totalwgt_lb, investigate whether first babies are lighter or heavier than others. Compute Cohen’s d to quantify the difference between the groups. How does it compare to the difference in pregnancy length?"
   ]
  },
  {
   "cell_type": "code",
   "execution_count": 1,
   "metadata": {},
   "outputs": [],
   "source": [
    "import math\n",
    "import numpy as np\n",
    "import nsfg\n",
    "import thinkstats2\n",
    "import thinkplot"
   ]
  },
  {
   "cell_type": "code",
   "execution_count": 2,
   "metadata": {},
   "outputs": [
    {
     "data": {
      "text/plain": [
       "(13593, 244)"
      ]
     },
     "execution_count": 2,
     "metadata": {},
     "output_type": "execute_result"
    }
   ],
   "source": [
    "df = nsfg.ReadFemPreg()\n",
    "df.shape"
   ]
  },
  {
   "cell_type": "code",
   "execution_count": 3,
   "metadata": {
    "collapsed": true,
    "jupyter": {
     "outputs_hidden": true
    }
   },
   "outputs": [
    {
     "data": {
      "text/plain": [
       "['caseid',\n",
       " 'pregordr',\n",
       " 'howpreg_n',\n",
       " 'howpreg_p',\n",
       " 'moscurrp',\n",
       " 'nowprgdk',\n",
       " 'pregend1',\n",
       " 'pregend2',\n",
       " 'nbrnaliv',\n",
       " 'multbrth',\n",
       " 'cmotpreg',\n",
       " 'prgoutcome',\n",
       " 'cmprgend',\n",
       " 'flgdkmo1',\n",
       " 'cmprgbeg',\n",
       " 'ageatend',\n",
       " 'hpageend',\n",
       " 'gestasun_m',\n",
       " 'gestasun_w',\n",
       " 'wksgest',\n",
       " 'mosgest',\n",
       " 'dk1gest',\n",
       " 'dk2gest',\n",
       " 'dk3gest',\n",
       " 'bpa_bdscheck1',\n",
       " 'bpa_bdscheck2',\n",
       " 'bpa_bdscheck3',\n",
       " 'babysex',\n",
       " 'birthwgt_lb',\n",
       " 'birthwgt_oz',\n",
       " 'lobthwgt',\n",
       " 'babysex2',\n",
       " 'birthwgt_lb2',\n",
       " 'birthwgt_oz2',\n",
       " 'lobthwgt2',\n",
       " 'babysex3',\n",
       " 'birthwgt_lb3',\n",
       " 'birthwgt_oz3',\n",
       " 'lobthwgt3',\n",
       " 'cmbabdob',\n",
       " 'kidage',\n",
       " 'hpagelb',\n",
       " 'birthplc',\n",
       " 'paybirth1',\n",
       " 'paybirth2',\n",
       " 'paybirth3',\n",
       " 'knewpreg',\n",
       " 'trimestr',\n",
       " 'ltrimest',\n",
       " 'priorsmk',\n",
       " 'postsmks',\n",
       " 'npostsmk',\n",
       " 'getprena',\n",
       " 'bgnprena',\n",
       " 'pnctrim',\n",
       " 'lpnctri',\n",
       " 'workpreg',\n",
       " 'workborn',\n",
       " 'didwork',\n",
       " 'matweeks',\n",
       " 'weeksdk',\n",
       " 'matleave',\n",
       " 'matchfound',\n",
       " 'livehere',\n",
       " 'alivenow',\n",
       " 'cmkidied',\n",
       " 'cmkidlft',\n",
       " 'lastage',\n",
       " 'wherenow',\n",
       " 'legagree',\n",
       " 'parenend',\n",
       " 'anynurse',\n",
       " 'fedsolid',\n",
       " 'frsteatd_n',\n",
       " 'frsteatd_p',\n",
       " 'frsteatd',\n",
       " 'quitnurs',\n",
       " 'ageqtnur_n',\n",
       " 'ageqtnur_p',\n",
       " 'ageqtnur',\n",
       " 'matchfound2',\n",
       " 'livehere2',\n",
       " 'alivenow2',\n",
       " 'cmkidied2',\n",
       " 'cmkidlft2',\n",
       " 'lastage2',\n",
       " 'wherenow2',\n",
       " 'legagree2',\n",
       " 'parenend2',\n",
       " 'anynurse2',\n",
       " 'fedsolid2',\n",
       " 'frsteatd_n2',\n",
       " 'frsteatd_p2',\n",
       " 'frsteatd2',\n",
       " 'quitnurs2',\n",
       " 'ageqtnur_n2',\n",
       " 'ageqtnur_p2',\n",
       " 'ageqtnur2',\n",
       " 'matchfound3',\n",
       " 'livehere3',\n",
       " 'alivenow3',\n",
       " 'cmkidied3',\n",
       " 'cmkidlft3',\n",
       " 'lastage3',\n",
       " 'wherenow3',\n",
       " 'legagree3',\n",
       " 'parenend3',\n",
       " 'anynurse3',\n",
       " 'fedsolid3',\n",
       " 'frsteatd_n3',\n",
       " 'frsteatd_p3',\n",
       " 'frsteatd3',\n",
       " 'quitnurs3',\n",
       " 'ageqtnur_n3',\n",
       " 'ageqtnur_p3',\n",
       " 'ageqtnur3',\n",
       " 'cmlastlb',\n",
       " 'cmfstprg',\n",
       " 'cmlstprg',\n",
       " 'cmintstr',\n",
       " 'cmintfin',\n",
       " 'cmintstrop',\n",
       " 'cmintfinop',\n",
       " 'cmintstrcr',\n",
       " 'cmintfincr',\n",
       " 'evuseint',\n",
       " 'stopduse',\n",
       " 'whystopd',\n",
       " 'whatmeth01',\n",
       " 'whatmeth02',\n",
       " 'whatmeth03',\n",
       " 'whatmeth04',\n",
       " 'resnouse',\n",
       " 'wantbold',\n",
       " 'probbabe',\n",
       " 'cnfrmno',\n",
       " 'wantbld2',\n",
       " 'timingok',\n",
       " 'toosoon_n',\n",
       " 'toosoon_p',\n",
       " 'wthpart1',\n",
       " 'wthpart2',\n",
       " 'feelinpg',\n",
       " 'hpwnold',\n",
       " 'timokhp',\n",
       " 'cohpbeg',\n",
       " 'cohpend',\n",
       " 'tellfath',\n",
       " 'whentell',\n",
       " 'tryscale',\n",
       " 'wantscal',\n",
       " 'whyprg1',\n",
       " 'whyprg2',\n",
       " 'whynouse1',\n",
       " 'whynouse2',\n",
       " 'whynouse3',\n",
       " 'anyusint',\n",
       " 'prglngth',\n",
       " 'outcome',\n",
       " 'birthord',\n",
       " 'datend',\n",
       " 'agepreg',\n",
       " 'datecon',\n",
       " 'agecon',\n",
       " 'fmarout5',\n",
       " 'pmarpreg',\n",
       " 'rmarout6',\n",
       " 'fmarcon5',\n",
       " 'learnprg',\n",
       " 'pncarewk',\n",
       " 'paydeliv',\n",
       " 'lbw1',\n",
       " 'bfeedwks',\n",
       " 'maternlv',\n",
       " 'oldwantr',\n",
       " 'oldwantp',\n",
       " 'wantresp',\n",
       " 'wantpart',\n",
       " 'cmbirth',\n",
       " 'ager',\n",
       " 'agescrn',\n",
       " 'fmarital',\n",
       " 'rmarital',\n",
       " 'educat',\n",
       " 'hieduc',\n",
       " 'race',\n",
       " 'hispanic',\n",
       " 'hisprace',\n",
       " 'rcurpreg',\n",
       " 'pregnum',\n",
       " 'parity',\n",
       " 'insuranc',\n",
       " 'pubassis',\n",
       " 'poverty',\n",
       " 'laborfor',\n",
       " 'religion',\n",
       " 'metro',\n",
       " 'brnout',\n",
       " 'yrstrus',\n",
       " 'prglngth_i',\n",
       " 'outcome_i',\n",
       " 'birthord_i',\n",
       " 'datend_i',\n",
       " 'agepreg_i',\n",
       " 'datecon_i',\n",
       " 'agecon_i',\n",
       " 'fmarout5_i',\n",
       " 'pmarpreg_i',\n",
       " 'rmarout6_i',\n",
       " 'fmarcon5_i',\n",
       " 'learnprg_i',\n",
       " 'pncarewk_i',\n",
       " 'paydeliv_i',\n",
       " 'lbw1_i',\n",
       " 'bfeedwks_i',\n",
       " 'maternlv_i',\n",
       " 'oldwantr_i',\n",
       " 'oldwantp_i',\n",
       " 'wantresp_i',\n",
       " 'wantpart_i',\n",
       " 'ager_i',\n",
       " 'fmarital_i',\n",
       " 'rmarital_i',\n",
       " 'educat_i',\n",
       " 'hieduc_i',\n",
       " 'race_i',\n",
       " 'hispanic_i',\n",
       " 'hisprace_i',\n",
       " 'rcurpreg_i',\n",
       " 'pregnum_i',\n",
       " 'parity_i',\n",
       " 'insuranc_i',\n",
       " 'pubassis_i',\n",
       " 'poverty_i',\n",
       " 'laborfor_i',\n",
       " 'religion_i',\n",
       " 'metro_i',\n",
       " 'basewgt',\n",
       " 'adj_mod_basewgt',\n",
       " 'finalwgt',\n",
       " 'secu_p',\n",
       " 'sest',\n",
       " 'cmintvw',\n",
       " 'totalwgt_lb']"
      ]
     },
     "execution_count": 3,
     "metadata": {},
     "output_type": "execute_result"
    }
   ],
   "source": [
    "df.columns.tolist()"
   ]
  },
  {
   "cell_type": "code",
   "execution_count": 4,
   "metadata": {},
   "outputs": [
    {
     "data": {
      "text/plain": [
       "7.5000     302\n",
       "7.0000     301\n",
       "7.3750     285\n",
       "8.0000     265\n",
       "7.6875     220\n",
       "          ... \n",
       "15.4375      1\n",
       "0.3125       1\n",
       "0.1250       1\n",
       "1.0000       1\n",
       "13.5000      1\n",
       "Name: totalwgt_lb, Length: 184, dtype: int64"
      ]
     },
     "execution_count": 4,
     "metadata": {},
     "output_type": "execute_result"
    }
   ],
   "source": [
    "df.totalwgt_lb.value_counts()"
   ]
  },
  {
   "cell_type": "code",
   "execution_count": 5,
   "metadata": {},
   "outputs": [],
   "source": [
    "live = df[df.outcome == 1]"
   ]
  },
  {
   "cell_type": "code",
   "execution_count": 6,
   "metadata": {},
   "outputs": [
    {
     "data": {
      "text/plain": [
       "(9148, 244)"
      ]
     },
     "execution_count": 6,
     "metadata": {},
     "output_type": "execute_result"
    }
   ],
   "source": [
    "live.shape"
   ]
  },
  {
   "cell_type": "code",
   "execution_count": 18,
   "metadata": {},
   "outputs": [
    {
     "data": {
      "text/plain": [
       "(4413, 244)"
      ]
     },
     "execution_count": 18,
     "metadata": {},
     "output_type": "execute_result"
    }
   ],
   "source": [
    "first = live[live.birthord == 1]\n",
    "first.shape"
   ]
  },
  {
   "cell_type": "code",
   "execution_count": 19,
   "metadata": {},
   "outputs": [
    {
     "data": {
      "text/plain": [
       "(4735, 244)"
      ]
     },
     "execution_count": 19,
     "metadata": {},
     "output_type": "execute_result"
    }
   ],
   "source": [
    "other = live[live.birthord != 1]\n",
    "other.shape"
   ]
  },
  {
   "cell_type": "code",
   "execution_count": 20,
   "metadata": {},
   "outputs": [],
   "source": [
    "def d(pop1, pop2):\n",
    "    \n",
    "    mean1 = pop1.mean()\n",
    "    mean2 = pop2.mean()\n",
    "    delta = mean1 - mean2\n",
    "    \n",
    "    var1 = pop1.var()\n",
    "    var2 = pop2.var()\n",
    "    n1 = len(pop1)\n",
    "    n2 = len(pop2)\n",
    "    pooled_var = (n1 * var1 + n2 * var2) / (n1 + n2)\n",
    "    d = delta / math.sqrt(pooled_var)\n",
    "    return d"
   ]
  },
  {
   "cell_type": "markdown",
   "metadata": {},
   "source": [
    "Cohen’s d for babies' weight, first born vs. other:"
   ]
  },
  {
   "cell_type": "code",
   "execution_count": 21,
   "metadata": {},
   "outputs": [
    {
     "data": {
      "text/plain": [
       "-0.08867292707260174"
      ]
     },
     "execution_count": 21,
     "metadata": {},
     "output_type": "execute_result"
    }
   ],
   "source": [
    "weight_dif = d(first.totalwgt_lb, other.totalwgt_lb)\n",
    "weight_dif"
   ]
  },
  {
   "cell_type": "markdown",
   "metadata": {},
   "source": [
    "Cohen’s d for pregnancy length, first born vs. other:"
   ]
  },
  {
   "cell_type": "code",
   "execution_count": 22,
   "metadata": {},
   "outputs": [
    {
     "data": {
      "text/plain": [
       "0.028879044654449834"
      ]
     },
     "execution_count": 22,
     "metadata": {},
     "output_type": "execute_result"
    }
   ],
   "source": [
    "length_dif = d(first.prglngth, other.prglngth)\n",
    "length_dif"
   ]
  }
 ],
 "metadata": {
  "kernelspec": {
   "display_name": "3_6",
   "language": "python",
   "name": "3_6"
  },
  "language_info": {
   "codemirror_mode": {
    "name": "ipython",
    "version": 3
   },
   "file_extension": ".py",
   "mimetype": "text/x-python",
   "name": "python",
   "nbconvert_exporter": "python",
   "pygments_lexer": "ipython3",
   "version": "3.6.9"
  }
 },
 "nbformat": 4,
 "nbformat_minor": 4
}
